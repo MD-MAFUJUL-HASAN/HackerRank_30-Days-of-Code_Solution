{
 "cells": [
  {
   "cell_type": "raw",
   "metadata": {},
   "source": [
    "Objective\n",
    "In this challenge, we're going to use loops to help us do some simple math. Check out the Tutorial tab to learn more.\n",
    "\n",
    "Task\n",
    "Given an integer, , print its first  multiples. Each multiple  (where ) should be printed on a new line in the form: n x i = result.\n",
    "\n",
    "Input Format\n",
    "\n",
    "A single integer, .\n",
    "\n",
    "Constraints\n",
    "\n",
    "Output Format\n",
    "\n",
    "Print  lines of output; each line  (where ) contains the  of  in the form:\n",
    "n x i = result.\n",
    "\n",
    "Sample Input\n",
    "\n",
    "2\n",
    "Sample Output\n",
    "\n",
    "2 x 1 = 2\n",
    "2 x 2 = 4\n",
    "2 x 3 = 6\n",
    "2 x 4 = 8\n",
    "2 x 5 = 10\n",
    "2 x 6 = 12\n",
    "2 x 7 = 14\n",
    "2 x 8 = 16\n",
    "2 x 9 = 18\n",
    "2 x 10 = 20"
   ]
  },
  {
   "cell_type": "code",
   "execution_count": null,
   "metadata": {},
   "outputs": [],
   "source": [
    "import math\n",
    "import os\n",
    "import random\n",
    "import re\n",
    "import sys\n",
    "\n",
    "\n",
    "if __name__ == '__main__':\n",
    "    n = int(input().strip())\n",
    "    for i in range(1, 11):\n",
    "        print(n, 'x', i, '=', n*i)\n"
   ]
  }
 ],
 "metadata": {
  "kernelspec": {
   "display_name": "Python 3",
   "language": "python",
   "name": "python3"
  },
  "language_info": {
   "codemirror_mode": {
    "name": "ipython",
    "version": 3
   },
   "file_extension": ".py",
   "mimetype": "text/x-python",
   "name": "python",
   "nbconvert_exporter": "python",
   "pygments_lexer": "ipython3",
   "version": "3.7.4"
  }
 },
 "nbformat": 4,
 "nbformat_minor": 2
}
